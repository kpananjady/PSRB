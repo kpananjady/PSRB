{
 "cells": [
  {
   "cell_type": "markdown",
   "metadata": {},
   "source": [
    "# Index"
   ]
  },
  {
   "cell_type": "markdown",
   "metadata": {},
   "source": [
    "- Tools\n",
    "- Data\n",
    "- How many people total were committed, discharged, and are still awaiting discharge?\n",
    "    - ```399, 249, 150```\n",
    "- Mean and median wait times for those discharged\n",
    "    - ```14.7``` years\n",
    "- Commits over time\n",
    "    - Peaks between ```1982-1994``` ish, clear spike in ```'85```\n",
    "- Discharges over time\n",
    "    - ```First discharge only in 1986. Couple of spikes — most noticeably in 2008 – but no clear trend.```\n",
    "- Net intake over time\n",
    "    - ```Net intake (People newly committed - people discharged) drops to 0 or negative in 2000s,``` with small exceptions in 2012, 2013 and 2017\n",
    "- People who have not been discharged\n",
    "   - ```Most are relatively recently committed people, but earliest case dates from 1976```\n",
    "- Total people under board's jurisdiction at any given point in time \n",
    "   - ```Median number of people committed at any given point in time is about 151```\n",
    "- Same name folks \n",
    "    - ```These look like errors in data entry on their end```"
   ]
  },
  {
   "cell_type": "markdown",
   "metadata": {},
   "source": [
    "# Tools"
   ]
  },
  {
   "cell_type": "code",
   "execution_count": 3,
   "metadata": {},
   "outputs": [],
   "source": [
    "import pandas as pd\n",
    "import matplotlib.pyplot as plt\n",
    "import numpy as np"
   ]
  },
  {
   "cell_type": "markdown",
   "metadata": {},
   "source": [
    "# Data"
   ]
  },
  {
   "cell_type": "code",
   "execution_count": 4,
   "metadata": {},
   "outputs": [],
   "source": [
    "df = pd.read_csv('Acquittee_Listing.xlsx - All.csv')"
   ]
  },
  {
   "cell_type": "code",
   "execution_count": 5,
   "metadata": {},
   "outputs": [
    {
     "data": {
      "text/plain": [
       "LastName         object\n",
       "FirstName        object\n",
       "CommitDate       object\n",
       "DischargeDate    object\n",
       "dtype: object"
      ]
     },
     "execution_count": 5,
     "metadata": {},
     "output_type": "execute_result"
    }
   ],
   "source": [
    "df.dtypes"
   ]
  },
  {
   "cell_type": "code",
   "execution_count": 6,
   "metadata": {},
   "outputs": [],
   "source": [
    "df['CommitDate'] = pd.to_datetime(df['CommitDate'])"
   ]
  },
  {
   "cell_type": "code",
   "execution_count": 7,
   "metadata": {},
   "outputs": [],
   "source": [
    "df['DischargeDate'] = pd.to_datetime(df['DischargeDate'])"
   ]
  },
  {
   "cell_type": "code",
   "execution_count": 8,
   "metadata": {},
   "outputs": [],
   "source": [
    "df['Difference'] = df['DischargeDate'] - df['CommitDate'] "
   ]
  },
  {
   "cell_type": "markdown",
   "metadata": {},
   "source": [
    "Can we get demographic information?"
   ]
  },
  {
   "cell_type": "markdown",
   "metadata": {},
   "source": [
    "# How many people total were committed, discharged and are still awaiting discharge?"
   ]
  },
  {
   "cell_type": "markdown",
   "metadata": {},
   "source": [
    "Total committed:"
   ]
  },
  {
   "cell_type": "code",
   "execution_count": 9,
   "metadata": {},
   "outputs": [
    {
     "data": {
      "text/plain": [
       "399"
      ]
     },
     "execution_count": 9,
     "metadata": {},
     "output_type": "execute_result"
    }
   ],
   "source": [
    "len(df)"
   ]
  },
  {
   "cell_type": "markdown",
   "metadata": {},
   "source": [
    "Total discharged:"
   ]
  },
  {
   "cell_type": "code",
   "execution_count": 10,
   "metadata": {},
   "outputs": [
    {
     "data": {
      "text/plain": [
       "249"
      ]
     },
     "execution_count": 10,
     "metadata": {},
     "output_type": "execute_result"
    }
   ],
   "source": [
    "len(df[df['DischargeDate'].isna()==False])"
   ]
  },
  {
   "cell_type": "markdown",
   "metadata": {},
   "source": [
    "People still awaiting discharge:"
   ]
  },
  {
   "cell_type": "code",
   "execution_count": 11,
   "metadata": {},
   "outputs": [
    {
     "data": {
      "text/plain": [
       "150"
      ]
     },
     "execution_count": 11,
     "metadata": {},
     "output_type": "execute_result"
    }
   ],
   "source": [
    "len(df[df['DischargeDate'].isna()])"
   ]
  },
  {
   "cell_type": "markdown",
   "metadata": {},
   "source": [
    "# Means and medians"
   ]
  },
  {
   "cell_type": "markdown",
   "metadata": {},
   "source": [
    "For people who are discharged, what's the average wait?"
   ]
  },
  {
   "cell_type": "code",
   "execution_count": 12,
   "metadata": {},
   "outputs": [],
   "source": [
    "#mean"
   ]
  },
  {
   "cell_type": "code",
   "execution_count": 13,
   "metadata": {},
   "outputs": [
    {
     "data": {
      "text/plain": [
       "Timedelta('5360 days 23:42:39.036144576')"
      ]
     },
     "execution_count": 13,
     "metadata": {},
     "output_type": "execute_result"
    }
   ],
   "source": [
    "df['Difference'].mean()"
   ]
  },
  {
   "cell_type": "code",
   "execution_count": 14,
   "metadata": {},
   "outputs": [],
   "source": [
    "#median"
   ]
  },
  {
   "cell_type": "code",
   "execution_count": 15,
   "metadata": {},
   "outputs": [
    {
     "data": {
      "text/plain": [
       "Timedelta('5356 days 00:00:00')"
      ]
     },
     "execution_count": 15,
     "metadata": {},
     "output_type": "execute_result"
    }
   ],
   "source": [
    "df['Difference'].median()"
   ]
  },
  {
   "cell_type": "code",
   "execution_count": 16,
   "metadata": {},
   "outputs": [],
   "source": [
    "#nearly 15 years!!"
   ]
  },
  {
   "cell_type": "code",
   "execution_count": 17,
   "metadata": {},
   "outputs": [
    {
     "data": {
      "text/plain": [
       "14.673972602739726"
      ]
     },
     "execution_count": 17,
     "metadata": {},
     "output_type": "execute_result"
    }
   ],
   "source": [
    "5356/365"
   ]
  },
  {
   "cell_type": "markdown",
   "metadata": {},
   "source": [
    "People on the higher end of this spectrum:"
   ]
  },
  {
   "cell_type": "code",
   "execution_count": 18,
   "metadata": {},
   "outputs": [
    {
     "data": {
      "text/html": [
       "<div>\n",
       "<style scoped>\n",
       "    .dataframe tbody tr th:only-of-type {\n",
       "        vertical-align: middle;\n",
       "    }\n",
       "\n",
       "    .dataframe tbody tr th {\n",
       "        vertical-align: top;\n",
       "    }\n",
       "\n",
       "    .dataframe thead th {\n",
       "        text-align: right;\n",
       "    }\n",
       "</style>\n",
       "<table border=\"1\" class=\"dataframe\">\n",
       "  <thead>\n",
       "    <tr style=\"text-align: right;\">\n",
       "      <th></th>\n",
       "      <th>LastName</th>\n",
       "      <th>FirstName</th>\n",
       "      <th>CommitDate</th>\n",
       "      <th>DischargeDate</th>\n",
       "      <th>Difference</th>\n",
       "    </tr>\n",
       "  </thead>\n",
       "  <tbody>\n",
       "    <tr>\n",
       "      <th>326</th>\n",
       "      <td>Russ</td>\n",
       "      <td>Norman</td>\n",
       "      <td>1978-02-16</td>\n",
       "      <td>2020-06-19</td>\n",
       "      <td>15464 days</td>\n",
       "    </tr>\n",
       "    <tr>\n",
       "      <th>376</th>\n",
       "      <td>Warren</td>\n",
       "      <td>William</td>\n",
       "      <td>1974-05-28</td>\n",
       "      <td>2013-12-17</td>\n",
       "      <td>14448 days</td>\n",
       "    </tr>\n",
       "    <tr>\n",
       "      <th>286</th>\n",
       "      <td>Paquette</td>\n",
       "      <td>William</td>\n",
       "      <td>1980-03-11</td>\n",
       "      <td>2019-08-21</td>\n",
       "      <td>14407 days</td>\n",
       "    </tr>\n",
       "    <tr>\n",
       "      <th>289</th>\n",
       "      <td>Payne</td>\n",
       "      <td>James</td>\n",
       "      <td>1980-04-17</td>\n",
       "      <td>2015-11-01</td>\n",
       "      <td>12981 days</td>\n",
       "    </tr>\n",
       "    <tr>\n",
       "      <th>148</th>\n",
       "      <td>Herlihy</td>\n",
       "      <td>Robert</td>\n",
       "      <td>1977-05-04</td>\n",
       "      <td>2011-01-04</td>\n",
       "      <td>12298 days</td>\n",
       "    </tr>\n",
       "    <tr>\n",
       "      <th>62</th>\n",
       "      <td>Cohane</td>\n",
       "      <td>John</td>\n",
       "      <td>1986-08-21</td>\n",
       "      <td>2020-04-20</td>\n",
       "      <td>12296 days</td>\n",
       "    </tr>\n",
       "    <tr>\n",
       "      <th>234</th>\n",
       "      <td>McCullough</td>\n",
       "      <td>Charles</td>\n",
       "      <td>1976-01-22</td>\n",
       "      <td>2009-06-06</td>\n",
       "      <td>12189 days</td>\n",
       "    </tr>\n",
       "    <tr>\n",
       "      <th>358</th>\n",
       "      <td>St. Pierre</td>\n",
       "      <td>Charles</td>\n",
       "      <td>1978-07-20</td>\n",
       "      <td>2010-12-06</td>\n",
       "      <td>11827 days</td>\n",
       "    </tr>\n",
       "    <tr>\n",
       "      <th>359</th>\n",
       "      <td>Stanton</td>\n",
       "      <td>Randall</td>\n",
       "      <td>1989-02-15</td>\n",
       "      <td>2020-06-14</td>\n",
       "      <td>11442 days</td>\n",
       "    </tr>\n",
       "    <tr>\n",
       "      <th>210</th>\n",
       "      <td>Long</td>\n",
       "      <td>Calvin</td>\n",
       "      <td>1986-10-16</td>\n",
       "      <td>2018-01-26</td>\n",
       "      <td>11425 days</td>\n",
       "    </tr>\n",
       "    <tr>\n",
       "      <th>263</th>\n",
       "      <td>Neal</td>\n",
       "      <td>David</td>\n",
       "      <td>1982-01-25</td>\n",
       "      <td>2012-10-18</td>\n",
       "      <td>11224 days</td>\n",
       "    </tr>\n",
       "    <tr>\n",
       "      <th>137</th>\n",
       "      <td>Harrington</td>\n",
       "      <td>Mark</td>\n",
       "      <td>1982-09-02</td>\n",
       "      <td>2012-11-10</td>\n",
       "      <td>11027 days</td>\n",
       "    </tr>\n",
       "    <tr>\n",
       "      <th>138</th>\n",
       "      <td>Harris</td>\n",
       "      <td>Leroy</td>\n",
       "      <td>1983-12-05</td>\n",
       "      <td>2014-01-31</td>\n",
       "      <td>11015 days</td>\n",
       "    </tr>\n",
       "    <tr>\n",
       "      <th>165</th>\n",
       "      <td>Johnston</td>\n",
       "      <td>William</td>\n",
       "      <td>1983-03-24</td>\n",
       "      <td>2013-03-23</td>\n",
       "      <td>10957 days</td>\n",
       "    </tr>\n",
       "    <tr>\n",
       "      <th>124</th>\n",
       "      <td>Giordano</td>\n",
       "      <td>Bryan</td>\n",
       "      <td>1986-04-14</td>\n",
       "      <td>2016-04-07</td>\n",
       "      <td>10951 days</td>\n",
       "    </tr>\n",
       "    <tr>\n",
       "      <th>125</th>\n",
       "      <td>Golden</td>\n",
       "      <td>!Jeffrey</td>\n",
       "      <td>1989-04-20</td>\n",
       "      <td>2017-12-10</td>\n",
       "      <td>10461 days</td>\n",
       "    </tr>\n",
       "    <tr>\n",
       "      <th>370</th>\n",
       "      <td>Von Deck</td>\n",
       "      <td>Jack</td>\n",
       "      <td>1982-06-01</td>\n",
       "      <td>2011-01-10</td>\n",
       "      <td>10450 days</td>\n",
       "    </tr>\n",
       "    <tr>\n",
       "      <th>102</th>\n",
       "      <td>Estrada</td>\n",
       "      <td>Dorothy</td>\n",
       "      <td>1990-12-12</td>\n",
       "      <td>2018-12-13</td>\n",
       "      <td>10228 days</td>\n",
       "    </tr>\n",
       "    <tr>\n",
       "      <th>325</th>\n",
       "      <td>Ruggles</td>\n",
       "      <td>Kenneth</td>\n",
       "      <td>1987-10-23</td>\n",
       "      <td>2015-10-22</td>\n",
       "      <td>10226 days</td>\n",
       "    </tr>\n",
       "    <tr>\n",
       "      <th>144</th>\n",
       "      <td>Henault</td>\n",
       "      <td>Roderick</td>\n",
       "      <td>1979-03-26</td>\n",
       "      <td>2007-03-10</td>\n",
       "      <td>10211 days</td>\n",
       "    </tr>\n",
       "    <tr>\n",
       "      <th>53</th>\n",
       "      <td>Champagne</td>\n",
       "      <td>Gregg</td>\n",
       "      <td>1988-04-18</td>\n",
       "      <td>2016-02-19</td>\n",
       "      <td>10168 days</td>\n",
       "    </tr>\n",
       "    <tr>\n",
       "      <th>284</th>\n",
       "      <td>Pallotolo</td>\n",
       "      <td>Thomas</td>\n",
       "      <td>1985-04-24</td>\n",
       "      <td>2011-12-03</td>\n",
       "      <td>9719 days</td>\n",
       "    </tr>\n",
       "    <tr>\n",
       "      <th>28</th>\n",
       "      <td>Bianchi</td>\n",
       "      <td>Richard</td>\n",
       "      <td>1991-11-15</td>\n",
       "      <td>2018-03-28</td>\n",
       "      <td>9630 days</td>\n",
       "    </tr>\n",
       "    <tr>\n",
       "      <th>42</th>\n",
       "      <td>Bryant</td>\n",
       "      <td>Curtis</td>\n",
       "      <td>1993-09-07</td>\n",
       "      <td>2019-12-15</td>\n",
       "      <td>9595 days</td>\n",
       "    </tr>\n",
       "    <tr>\n",
       "      <th>190</th>\n",
       "      <td>LaPointe,Jr.</td>\n",
       "      <td>Edward</td>\n",
       "      <td>1978-06-27</td>\n",
       "      <td>2004-06-28</td>\n",
       "      <td>9498 days</td>\n",
       "    </tr>\n",
       "    <tr>\n",
       "      <th>116</th>\n",
       "      <td>Gardner</td>\n",
       "      <td>Lawrence</td>\n",
       "      <td>1990-08-21</td>\n",
       "      <td>2016-08-03</td>\n",
       "      <td>9479 days</td>\n",
       "    </tr>\n",
       "    <tr>\n",
       "      <th>150</th>\n",
       "      <td>Hofmann</td>\n",
       "      <td>Peter</td>\n",
       "      <td>1989-10-23</td>\n",
       "      <td>2015-07-22</td>\n",
       "      <td>9403 days</td>\n",
       "    </tr>\n",
       "    <tr>\n",
       "      <th>312</th>\n",
       "      <td>Rich</td>\n",
       "      <td>William</td>\n",
       "      <td>1991-07-25</td>\n",
       "      <td>2016-07-24</td>\n",
       "      <td>9131 days</td>\n",
       "    </tr>\n",
       "    <tr>\n",
       "      <th>161</th>\n",
       "      <td>Jimenez</td>\n",
       "      <td>Samuel</td>\n",
       "      <td>1976-11-04</td>\n",
       "      <td>2001-11-03</td>\n",
       "      <td>9130 days</td>\n",
       "    </tr>\n",
       "    <tr>\n",
       "      <th>171</th>\n",
       "      <td>Keen</td>\n",
       "      <td>Marvin</td>\n",
       "      <td>1993-05-11</td>\n",
       "      <td>2018-05-10</td>\n",
       "      <td>9130 days</td>\n",
       "    </tr>\n",
       "    <tr>\n",
       "      <th>163</th>\n",
       "      <td>Johnson</td>\n",
       "      <td>Raymond</td>\n",
       "      <td>1985-03-18</td>\n",
       "      <td>2010-03-17</td>\n",
       "      <td>9130 days</td>\n",
       "    </tr>\n",
       "    <tr>\n",
       "      <th>58</th>\n",
       "      <td>Clark</td>\n",
       "      <td>Carol</td>\n",
       "      <td>1978-02-16</td>\n",
       "      <td>2003-02-10</td>\n",
       "      <td>9125 days</td>\n",
       "    </tr>\n",
       "    <tr>\n",
       "      <th>195</th>\n",
       "      <td>Layden</td>\n",
       "      <td>Thomas</td>\n",
       "      <td>1978-01-26</td>\n",
       "      <td>2003-01-20</td>\n",
       "      <td>9125 days</td>\n",
       "    </tr>\n",
       "    <tr>\n",
       "      <th>373</th>\n",
       "      <td>Walton</td>\n",
       "      <td>Gerald</td>\n",
       "      <td>1978-09-14</td>\n",
       "      <td>2003-08-13</td>\n",
       "      <td>9099 days</td>\n",
       "    </tr>\n",
       "    <tr>\n",
       "      <th>82</th>\n",
       "      <td>Del Santo</td>\n",
       "      <td>Alphonso</td>\n",
       "      <td>1988-06-22</td>\n",
       "      <td>2013-05-14</td>\n",
       "      <td>9092 days</td>\n",
       "    </tr>\n",
       "    <tr>\n",
       "      <th>110</th>\n",
       "      <td>Franklin</td>\n",
       "      <td>John</td>\n",
       "      <td>1978-04-27</td>\n",
       "      <td>2003-02-13</td>\n",
       "      <td>9058 days</td>\n",
       "    </tr>\n",
       "    <tr>\n",
       "      <th>92</th>\n",
       "      <td>Drummer</td>\n",
       "      <td>Gloria</td>\n",
       "      <td>1988-12-06</td>\n",
       "      <td>2013-06-06</td>\n",
       "      <td>8948 days</td>\n",
       "    </tr>\n",
       "    <tr>\n",
       "      <th>68</th>\n",
       "      <td>Conti</td>\n",
       "      <td>Joseph</td>\n",
       "      <td>1991-12-03</td>\n",
       "      <td>2016-04-06</td>\n",
       "      <td>8891 days</td>\n",
       "    </tr>\n",
       "    <tr>\n",
       "      <th>388</th>\n",
       "      <td>Wilson</td>\n",
       "      <td>Timothy</td>\n",
       "      <td>1981-06-11</td>\n",
       "      <td>2005-09-23</td>\n",
       "      <td>8870 days</td>\n",
       "    </tr>\n",
       "    <tr>\n",
       "      <th>295</th>\n",
       "      <td>Pellerin</td>\n",
       "      <td>Louis</td>\n",
       "      <td>1994-11-14</td>\n",
       "      <td>2019-01-13</td>\n",
       "      <td>8826 days</td>\n",
       "    </tr>\n",
       "    <tr>\n",
       "      <th>282</th>\n",
       "      <td>Pagliari</td>\n",
       "      <td>John</td>\n",
       "      <td>1982-01-28</td>\n",
       "      <td>2005-11-11</td>\n",
       "      <td>8688 days</td>\n",
       "    </tr>\n",
       "    <tr>\n",
       "      <th>76</th>\n",
       "      <td>Crowe</td>\n",
       "      <td>William</td>\n",
       "      <td>1978-01-12</td>\n",
       "      <td>2001-02-15</td>\n",
       "      <td>8435 days</td>\n",
       "    </tr>\n",
       "    <tr>\n",
       "      <th>225</th>\n",
       "      <td>Maskiell</td>\n",
       "      <td>Edwin</td>\n",
       "      <td>1986-01-21</td>\n",
       "      <td>2008-10-07</td>\n",
       "      <td>8295 days</td>\n",
       "    </tr>\n",
       "    <tr>\n",
       "      <th>243</th>\n",
       "      <td>Mercer</td>\n",
       "      <td>Laden</td>\n",
       "      <td>1986-03-20</td>\n",
       "      <td>2008-09-19</td>\n",
       "      <td>8219 days</td>\n",
       "    </tr>\n",
       "    <tr>\n",
       "      <th>327</th>\n",
       "      <td>Salzman</td>\n",
       "      <td>Alan</td>\n",
       "      <td>1979-04-18</td>\n",
       "      <td>2001-07-17</td>\n",
       "      <td>8126 days</td>\n",
       "    </tr>\n",
       "    <tr>\n",
       "      <th>303</th>\n",
       "      <td>Poznanski</td>\n",
       "      <td>Kevin</td>\n",
       "      <td>1987-09-23</td>\n",
       "      <td>2009-10-15</td>\n",
       "      <td>8058 days</td>\n",
       "    </tr>\n",
       "    <tr>\n",
       "      <th>322</th>\n",
       "      <td>Rossi</td>\n",
       "      <td>Roger</td>\n",
       "      <td>1987-10-07</td>\n",
       "      <td>2009-10-14</td>\n",
       "      <td>8043 days</td>\n",
       "    </tr>\n",
       "    <tr>\n",
       "      <th>179</th>\n",
       "      <td>Knighton</td>\n",
       "      <td>Johnny</td>\n",
       "      <td>1982-01-14</td>\n",
       "      <td>2004-01-14</td>\n",
       "      <td>8035 days</td>\n",
       "    </tr>\n",
       "    <tr>\n",
       "      <th>7</th>\n",
       "      <td>Andrychowski</td>\n",
       "      <td>Steven</td>\n",
       "      <td>1985-04-10</td>\n",
       "      <td>2007-04-06</td>\n",
       "      <td>8031 days</td>\n",
       "    </tr>\n",
       "    <tr>\n",
       "      <th>131</th>\n",
       "      <td>Griffiths</td>\n",
       "      <td>Clifton</td>\n",
       "      <td>1986-03-21</td>\n",
       "      <td>2008-01-23</td>\n",
       "      <td>7978 days</td>\n",
       "    </tr>\n",
       "    <tr>\n",
       "      <th>220</th>\n",
       "      <td>Mahon</td>\n",
       "      <td>Brian</td>\n",
       "      <td>1990-06-29</td>\n",
       "      <td>2012-04-11</td>\n",
       "      <td>7957 days</td>\n",
       "    </tr>\n",
       "    <tr>\n",
       "      <th>323</th>\n",
       "      <td>Roszkowski</td>\n",
       "      <td>Frank</td>\n",
       "      <td>1981-03-12</td>\n",
       "      <td>2002-12-18</td>\n",
       "      <td>7951 days</td>\n",
       "    </tr>\n",
       "    <tr>\n",
       "      <th>348</th>\n",
       "      <td>Smith</td>\n",
       "      <td>Joseph</td>\n",
       "      <td>1987-01-23</td>\n",
       "      <td>2008-07-23</td>\n",
       "      <td>7852 days</td>\n",
       "    </tr>\n",
       "    <tr>\n",
       "      <th>95</th>\n",
       "      <td>Duncan</td>\n",
       "      <td>Bertram</td>\n",
       "      <td>1975-05-29</td>\n",
       "      <td>1996-09-20</td>\n",
       "      <td>7785 days</td>\n",
       "    </tr>\n",
       "    <tr>\n",
       "      <th>149</th>\n",
       "      <td>Hodge</td>\n",
       "      <td>Hilary</td>\n",
       "      <td>1994-07-25</td>\n",
       "      <td>2015-11-10</td>\n",
       "      <td>7778 days</td>\n",
       "    </tr>\n",
       "    <tr>\n",
       "      <th>363</th>\n",
       "      <td>Todd</td>\n",
       "      <td>Michael</td>\n",
       "      <td>1991-03-14</td>\n",
       "      <td>2012-06-10</td>\n",
       "      <td>7759 days</td>\n",
       "    </tr>\n",
       "    <tr>\n",
       "      <th>86</th>\n",
       "      <td>Dickinson</td>\n",
       "      <td>Martin</td>\n",
       "      <td>1985-06-04</td>\n",
       "      <td>2006-08-11</td>\n",
       "      <td>7738 days</td>\n",
       "    </tr>\n",
       "    <tr>\n",
       "      <th>133</th>\n",
       "      <td>Hadden</td>\n",
       "      <td>Mark</td>\n",
       "      <td>1997-06-10</td>\n",
       "      <td>2018-05-27</td>\n",
       "      <td>7656 days</td>\n",
       "    </tr>\n",
       "    <tr>\n",
       "      <th>383</th>\n",
       "      <td>Wells</td>\n",
       "      <td>Raymond</td>\n",
       "      <td>1974-05-30</td>\n",
       "      <td>1995-05-07</td>\n",
       "      <td>7647 days</td>\n",
       "    </tr>\n",
       "    <tr>\n",
       "      <th>357</th>\n",
       "      <td>St. John</td>\n",
       "      <td>Ronald</td>\n",
       "      <td>1988-11-04</td>\n",
       "      <td>2009-10-01</td>\n",
       "      <td>7636 days</td>\n",
       "    </tr>\n",
       "  </tbody>\n",
       "</table>\n",
       "</div>"
      ],
      "text/plain": [
       "          LastName FirstName CommitDate DischargeDate Difference\n",
       "326           Russ    Norman 1978-02-16    2020-06-19 15464 days\n",
       "376         Warren   William 1974-05-28    2013-12-17 14448 days\n",
       "286       Paquette   William 1980-03-11    2019-08-21 14407 days\n",
       "289          Payne     James 1980-04-17    2015-11-01 12981 days\n",
       "148        Herlihy    Robert 1977-05-04    2011-01-04 12298 days\n",
       "62          Cohane      John 1986-08-21    2020-04-20 12296 days\n",
       "234     McCullough   Charles 1976-01-22    2009-06-06 12189 days\n",
       "358     St. Pierre   Charles 1978-07-20    2010-12-06 11827 days\n",
       "359        Stanton   Randall 1989-02-15    2020-06-14 11442 days\n",
       "210           Long    Calvin 1986-10-16    2018-01-26 11425 days\n",
       "263           Neal     David 1982-01-25    2012-10-18 11224 days\n",
       "137     Harrington      Mark 1982-09-02    2012-11-10 11027 days\n",
       "138         Harris     Leroy 1983-12-05    2014-01-31 11015 days\n",
       "165       Johnston   William 1983-03-24    2013-03-23 10957 days\n",
       "124       Giordano     Bryan 1986-04-14    2016-04-07 10951 days\n",
       "125         Golden  !Jeffrey 1989-04-20    2017-12-10 10461 days\n",
       "370       Von Deck      Jack 1982-06-01    2011-01-10 10450 days\n",
       "102        Estrada   Dorothy 1990-12-12    2018-12-13 10228 days\n",
       "325        Ruggles   Kenneth 1987-10-23    2015-10-22 10226 days\n",
       "144        Henault  Roderick 1979-03-26    2007-03-10 10211 days\n",
       "53       Champagne     Gregg 1988-04-18    2016-02-19 10168 days\n",
       "284      Pallotolo    Thomas 1985-04-24    2011-12-03  9719 days\n",
       "28         Bianchi   Richard 1991-11-15    2018-03-28  9630 days\n",
       "42          Bryant    Curtis 1993-09-07    2019-12-15  9595 days\n",
       "190  LaPointe,Jr.     Edward 1978-06-27    2004-06-28  9498 days\n",
       "116        Gardner  Lawrence 1990-08-21    2016-08-03  9479 days\n",
       "150        Hofmann     Peter 1989-10-23    2015-07-22  9403 days\n",
       "312           Rich   William 1991-07-25    2016-07-24  9131 days\n",
       "161        Jimenez    Samuel 1976-11-04    2001-11-03  9130 days\n",
       "171           Keen    Marvin 1993-05-11    2018-05-10  9130 days\n",
       "163        Johnson   Raymond 1985-03-18    2010-03-17  9130 days\n",
       "58           Clark     Carol 1978-02-16    2003-02-10  9125 days\n",
       "195         Layden    Thomas 1978-01-26    2003-01-20  9125 days\n",
       "373         Walton    Gerald 1978-09-14    2003-08-13  9099 days\n",
       "82       Del Santo  Alphonso 1988-06-22    2013-05-14  9092 days\n",
       "110       Franklin      John 1978-04-27    2003-02-13  9058 days\n",
       "92         Drummer    Gloria 1988-12-06    2013-06-06  8948 days\n",
       "68           Conti    Joseph 1991-12-03    2016-04-06  8891 days\n",
       "388         Wilson   Timothy 1981-06-11    2005-09-23  8870 days\n",
       "295       Pellerin     Louis 1994-11-14    2019-01-13  8826 days\n",
       "282       Pagliari      John 1982-01-28    2005-11-11  8688 days\n",
       "76           Crowe   William 1978-01-12    2001-02-15  8435 days\n",
       "225       Maskiell     Edwin 1986-01-21    2008-10-07  8295 days\n",
       "243         Mercer     Laden 1986-03-20    2008-09-19  8219 days\n",
       "327        Salzman      Alan 1979-04-18    2001-07-17  8126 days\n",
       "303      Poznanski     Kevin 1987-09-23    2009-10-15  8058 days\n",
       "322          Rossi     Roger 1987-10-07    2009-10-14  8043 days\n",
       "179       Knighton    Johnny 1982-01-14    2004-01-14  8035 days\n",
       "7     Andrychowski    Steven 1985-04-10    2007-04-06  8031 days\n",
       "131      Griffiths   Clifton 1986-03-21    2008-01-23  7978 days\n",
       "220          Mahon     Brian 1990-06-29    2012-04-11  7957 days\n",
       "323     Roszkowski     Frank 1981-03-12    2002-12-18  7951 days\n",
       "348          Smith    Joseph 1987-01-23    2008-07-23  7852 days\n",
       "95          Duncan   Bertram 1975-05-29    1996-09-20  7785 days\n",
       "149          Hodge    Hilary 1994-07-25    2015-11-10  7778 days\n",
       "363           Todd   Michael 1991-03-14    2012-06-10  7759 days\n",
       "86       Dickinson    Martin 1985-06-04    2006-08-11  7738 days\n",
       "133         Hadden      Mark 1997-06-10    2018-05-27  7656 days\n",
       "383          Wells   Raymond 1974-05-30    1995-05-07  7647 days\n",
       "357       St. John    Ronald 1988-11-04    2009-10-01  7636 days"
      ]
     },
     "execution_count": 18,
     "metadata": {},
     "output_type": "execute_result"
    }
   ],
   "source": [
    "df.sort_values(by='Difference', ascending=False).head(60)"
   ]
  },
  {
   "cell_type": "markdown",
   "metadata": {},
   "source": [
    "# Commits over time"
   ]
  },
  {
   "cell_type": "code",
   "execution_count": 19,
   "metadata": {},
   "outputs": [
    {
     "data": {
      "text/plain": [
       "<Figure size 1440x720 with 0 Axes>"
      ]
     },
     "metadata": {},
     "output_type": "display_data"
    },
    {
     "data": {
      "image/png": "[encoded data removed]",
      "text/plain": [
       "<Figure size 432x288 with 1 Axes>"
      ]
     },
     "metadata": {
      "needs_background": "light"
     },
     "output_type": "display_data"
    }
   ],
   "source": [
    "plt.figure(figsize=(20, 10))\n",
    "df['CommitDate'].dt.year.value_counts().reset_index().sort_values(by='index').plot(x='index', y='CommitDate',kind='bar')\n",
    "# plt.xticks(rotation=15)\n",
    "plt.show()"
   ]
  },
  {
   "cell_type": "markdown",
   "metadata": {},
   "source": [
    "# Discharges over time"
   ]
  },
  {
   "cell_type": "markdown",
   "metadata": {},
   "source": [
    "How many people got discharged each year?"
   ]
  },
  {
   "cell_type": "code",
   "execution_count": 20,
   "metadata": {},
   "outputs": [],
   "source": [
    "#first instances in 1986"
   ]
  },
  {
   "cell_type": "code",
   "execution_count": 21,
   "metadata": {},
   "outputs": [
    {
     "data": {
      "image/png": "[encoded data removed]",
      "text/plain": [
       "<Figure size 432x288 with 1 Axes>"
      ]
     },
     "metadata": {
      "needs_background": "light"
     },
     "output_type": "display_data"
    }
   ],
   "source": [
    "ax = df['DischargeDate'].dt.year.value_counts().reset_index().sort_values(by='index').plot(x='index', y='DischargeDate',kind='bar')\n",
    "#ax.set_ylim(ymin=1973)"
   ]
  },
  {
   "cell_type": "markdown",
   "metadata": {},
   "source": [
    "# Net intake over time"
   ]
  },
  {
   "cell_type": "markdown",
   "metadata": {},
   "source": [
    "Does the PSRB commit as many people as it discharges each year? Or does it discharge more people than it brings in?"
   ]
  },
  {
   "cell_type": "code",
   "execution_count": 37,
   "metadata": {},
   "outputs": [
    {
     "data": {
      "text/html": [
       "<div>\n",
       "<style scoped>\n",
       "    .dataframe tbody tr th:only-of-type {\n",
       "        vertical-align: middle;\n",
       "    }\n",
       "\n",
       "    .dataframe tbody tr th {\n",
       "        vertical-align: top;\n",
       "    }\n",
       "\n",
       "    .dataframe thead th {\n",
       "        text-align: right;\n",
       "    }\n",
       "</style>\n",
       "<table border=\"1\" class=\"dataframe\">\n",
       "  <thead>\n",
       "    <tr style=\"text-align: right;\">\n",
       "      <th></th>\n",
       "      <th>year</th>\n",
       "      <th>commits</th>\n",
       "      <th>discharges</th>\n",
       "      <th>net_intake</th>\n",
       "      <th>Cumulative_sum</th>\n",
       "      <th>Cumulative_sum_discharges</th>\n",
       "      <th>Population?</th>\n",
       "    </tr>\n",
       "  </thead>\n",
       "  <tbody>\n",
       "    <tr>\n",
       "      <th>0</th>\n",
       "      <td>1973</td>\n",
       "      <td>2</td>\n",
       "      <td>0.0</td>\n",
       "      <td>2.0</td>\n",
       "      <td>2.0</td>\n",
       "      <td>0.0</td>\n",
       "      <td>2.0</td>\n",
       "    </tr>\n",
       "    <tr>\n",
       "      <th>1</th>\n",
       "      <td>1974</td>\n",
       "      <td>2</td>\n",
       "      <td>0.0</td>\n",
       "      <td>2.0</td>\n",
       "      <td>4.0</td>\n",
       "      <td>0.0</td>\n",
       "      <td>4.0</td>\n",
       "    </tr>\n",
       "    <tr>\n",
       "      <th>2</th>\n",
       "      <td>1975</td>\n",
       "      <td>3</td>\n",
       "      <td>0.0</td>\n",
       "      <td>3.0</td>\n",
       "      <td>7.0</td>\n",
       "      <td>0.0</td>\n",
       "      <td>7.0</td>\n",
       "    </tr>\n",
       "    <tr>\n",
       "      <th>3</th>\n",
       "      <td>1976</td>\n",
       "      <td>3</td>\n",
       "      <td>0.0</td>\n",
       "      <td>3.0</td>\n",
       "      <td>10.0</td>\n",
       "      <td>0.0</td>\n",
       "      <td>10.0</td>\n",
       "    </tr>\n",
       "    <tr>\n",
       "      <th>4</th>\n",
       "      <td>1977</td>\n",
       "      <td>3</td>\n",
       "      <td>0.0</td>\n",
       "      <td>3.0</td>\n",
       "      <td>13.0</td>\n",
       "      <td>0.0</td>\n",
       "      <td>13.0</td>\n",
       "    </tr>\n",
       "    <tr>\n",
       "      <th>5</th>\n",
       "      <td>1978</td>\n",
       "      <td>13</td>\n",
       "      <td>0.0</td>\n",
       "      <td>13.0</td>\n",
       "      <td>26.0</td>\n",
       "      <td>0.0</td>\n",
       "      <td>26.0</td>\n",
       "    </tr>\n",
       "    <tr>\n",
       "      <th>6</th>\n",
       "      <td>1979</td>\n",
       "      <td>8</td>\n",
       "      <td>0.0</td>\n",
       "      <td>8.0</td>\n",
       "      <td>34.0</td>\n",
       "      <td>0.0</td>\n",
       "      <td>34.0</td>\n",
       "    </tr>\n",
       "    <tr>\n",
       "      <th>7</th>\n",
       "      <td>1980</td>\n",
       "      <td>4</td>\n",
       "      <td>0.0</td>\n",
       "      <td>4.0</td>\n",
       "      <td>38.0</td>\n",
       "      <td>0.0</td>\n",
       "      <td>38.0</td>\n",
       "    </tr>\n",
       "    <tr>\n",
       "      <th>8</th>\n",
       "      <td>1981</td>\n",
       "      <td>8</td>\n",
       "      <td>0.0</td>\n",
       "      <td>8.0</td>\n",
       "      <td>46.0</td>\n",
       "      <td>0.0</td>\n",
       "      <td>46.0</td>\n",
       "    </tr>\n",
       "    <tr>\n",
       "      <th>9</th>\n",
       "      <td>1982</td>\n",
       "      <td>17</td>\n",
       "      <td>0.0</td>\n",
       "      <td>17.0</td>\n",
       "      <td>63.0</td>\n",
       "      <td>0.0</td>\n",
       "      <td>63.0</td>\n",
       "    </tr>\n",
       "    <tr>\n",
       "      <th>10</th>\n",
       "      <td>1983</td>\n",
       "      <td>15</td>\n",
       "      <td>0.0</td>\n",
       "      <td>15.0</td>\n",
       "      <td>78.0</td>\n",
       "      <td>0.0</td>\n",
       "      <td>78.0</td>\n",
       "    </tr>\n",
       "    <tr>\n",
       "      <th>11</th>\n",
       "      <td>1984</td>\n",
       "      <td>10</td>\n",
       "      <td>0.0</td>\n",
       "      <td>10.0</td>\n",
       "      <td>88.0</td>\n",
       "      <td>0.0</td>\n",
       "      <td>88.0</td>\n",
       "    </tr>\n",
       "    <tr>\n",
       "      <th>12</th>\n",
       "      <td>1985</td>\n",
       "      <td>29</td>\n",
       "      <td>0.0</td>\n",
       "      <td>29.0</td>\n",
       "      <td>117.0</td>\n",
       "      <td>0.0</td>\n",
       "      <td>117.0</td>\n",
       "    </tr>\n",
       "    <tr>\n",
       "      <th>13</th>\n",
       "      <td>1986</td>\n",
       "      <td>19</td>\n",
       "      <td>10.0</td>\n",
       "      <td>9.0</td>\n",
       "      <td>136.0</td>\n",
       "      <td>10.0</td>\n",
       "      <td>126.0</td>\n",
       "    </tr>\n",
       "    <tr>\n",
       "      <th>14</th>\n",
       "      <td>1987</td>\n",
       "      <td>15</td>\n",
       "      <td>6.0</td>\n",
       "      <td>9.0</td>\n",
       "      <td>151.0</td>\n",
       "      <td>16.0</td>\n",
       "      <td>135.0</td>\n",
       "    </tr>\n",
       "    <tr>\n",
       "      <th>15</th>\n",
       "      <td>1988</td>\n",
       "      <td>13</td>\n",
       "      <td>6.0</td>\n",
       "      <td>7.0</td>\n",
       "      <td>164.0</td>\n",
       "      <td>22.0</td>\n",
       "      <td>142.0</td>\n",
       "    </tr>\n",
       "    <tr>\n",
       "      <th>16</th>\n",
       "      <td>1989</td>\n",
       "      <td>13</td>\n",
       "      <td>3.0</td>\n",
       "      <td>10.0</td>\n",
       "      <td>177.0</td>\n",
       "      <td>25.0</td>\n",
       "      <td>152.0</td>\n",
       "    </tr>\n",
       "    <tr>\n",
       "      <th>17</th>\n",
       "      <td>1990</td>\n",
       "      <td>16</td>\n",
       "      <td>9.0</td>\n",
       "      <td>7.0</td>\n",
       "      <td>193.0</td>\n",
       "      <td>34.0</td>\n",
       "      <td>159.0</td>\n",
       "    </tr>\n",
       "    <tr>\n",
       "      <th>18</th>\n",
       "      <td>1991</td>\n",
       "      <td>15</td>\n",
       "      <td>8.0</td>\n",
       "      <td>7.0</td>\n",
       "      <td>208.0</td>\n",
       "      <td>42.0</td>\n",
       "      <td>166.0</td>\n",
       "    </tr>\n",
       "    <tr>\n",
       "      <th>19</th>\n",
       "      <td>1992</td>\n",
       "      <td>12</td>\n",
       "      <td>2.0</td>\n",
       "      <td>10.0</td>\n",
       "      <td>220.0</td>\n",
       "      <td>44.0</td>\n",
       "      <td>176.0</td>\n",
       "    </tr>\n",
       "    <tr>\n",
       "      <th>20</th>\n",
       "      <td>1993</td>\n",
       "      <td>9</td>\n",
       "      <td>7.0</td>\n",
       "      <td>2.0</td>\n",
       "      <td>229.0</td>\n",
       "      <td>51.0</td>\n",
       "      <td>178.0</td>\n",
       "    </tr>\n",
       "    <tr>\n",
       "      <th>21</th>\n",
       "      <td>1994</td>\n",
       "      <td>12</td>\n",
       "      <td>11.0</td>\n",
       "      <td>1.0</td>\n",
       "      <td>241.0</td>\n",
       "      <td>62.0</td>\n",
       "      <td>179.0</td>\n",
       "    </tr>\n",
       "    <tr>\n",
       "      <th>22</th>\n",
       "      <td>1995</td>\n",
       "      <td>9</td>\n",
       "      <td>12.0</td>\n",
       "      <td>-3.0</td>\n",
       "      <td>250.0</td>\n",
       "      <td>74.0</td>\n",
       "      <td>176.0</td>\n",
       "    </tr>\n",
       "    <tr>\n",
       "      <th>23</th>\n",
       "      <td>1996</td>\n",
       "      <td>5</td>\n",
       "      <td>5.0</td>\n",
       "      <td>0.0</td>\n",
       "      <td>255.0</td>\n",
       "      <td>79.0</td>\n",
       "      <td>176.0</td>\n",
       "    </tr>\n",
       "    <tr>\n",
       "      <th>24</th>\n",
       "      <td>1997</td>\n",
       "      <td>5</td>\n",
       "      <td>4.0</td>\n",
       "      <td>1.0</td>\n",
       "      <td>260.0</td>\n",
       "      <td>83.0</td>\n",
       "      <td>177.0</td>\n",
       "    </tr>\n",
       "    <tr>\n",
       "      <th>25</th>\n",
       "      <td>1998</td>\n",
       "      <td>5</td>\n",
       "      <td>5.0</td>\n",
       "      <td>0.0</td>\n",
       "      <td>265.0</td>\n",
       "      <td>88.0</td>\n",
       "      <td>177.0</td>\n",
       "    </tr>\n",
       "    <tr>\n",
       "      <th>26</th>\n",
       "      <td>1999</td>\n",
       "      <td>9</td>\n",
       "      <td>9.0</td>\n",
       "      <td>0.0</td>\n",
       "      <td>274.0</td>\n",
       "      <td>97.0</td>\n",
       "      <td>177.0</td>\n",
       "    </tr>\n",
       "    <tr>\n",
       "      <th>27</th>\n",
       "      <td>2000</td>\n",
       "      <td>8</td>\n",
       "      <td>6.0</td>\n",
       "      <td>2.0</td>\n",
       "      <td>282.0</td>\n",
       "      <td>103.0</td>\n",
       "      <td>179.0</td>\n",
       "    </tr>\n",
       "    <tr>\n",
       "      <th>28</th>\n",
       "      <td>2001</td>\n",
       "      <td>5</td>\n",
       "      <td>6.0</td>\n",
       "      <td>-1.0</td>\n",
       "      <td>287.0</td>\n",
       "      <td>109.0</td>\n",
       "      <td>178.0</td>\n",
       "    </tr>\n",
       "    <tr>\n",
       "      <th>29</th>\n",
       "      <td>2002</td>\n",
       "      <td>8</td>\n",
       "      <td>8.0</td>\n",
       "      <td>0.0</td>\n",
       "      <td>295.0</td>\n",
       "      <td>117.0</td>\n",
       "      <td>178.0</td>\n",
       "    </tr>\n",
       "    <tr>\n",
       "      <th>30</th>\n",
       "      <td>2003</td>\n",
       "      <td>7</td>\n",
       "      <td>10.0</td>\n",
       "      <td>-3.0</td>\n",
       "      <td>302.0</td>\n",
       "      <td>127.0</td>\n",
       "      <td>175.0</td>\n",
       "    </tr>\n",
       "    <tr>\n",
       "      <th>31</th>\n",
       "      <td>2004</td>\n",
       "      <td>7</td>\n",
       "      <td>9.0</td>\n",
       "      <td>-2.0</td>\n",
       "      <td>309.0</td>\n",
       "      <td>136.0</td>\n",
       "      <td>173.0</td>\n",
       "    </tr>\n",
       "    <tr>\n",
       "      <th>32</th>\n",
       "      <td>2005</td>\n",
       "      <td>4</td>\n",
       "      <td>8.0</td>\n",
       "      <td>-4.0</td>\n",
       "      <td>313.0</td>\n",
       "      <td>144.0</td>\n",
       "      <td>169.0</td>\n",
       "    </tr>\n",
       "    <tr>\n",
       "      <th>33</th>\n",
       "      <td>2006</td>\n",
       "      <td>4</td>\n",
       "      <td>4.0</td>\n",
       "      <td>0.0</td>\n",
       "      <td>317.0</td>\n",
       "      <td>148.0</td>\n",
       "      <td>169.0</td>\n",
       "    </tr>\n",
       "    <tr>\n",
       "      <th>34</th>\n",
       "      <td>2007</td>\n",
       "      <td>4</td>\n",
       "      <td>10.0</td>\n",
       "      <td>-6.0</td>\n",
       "      <td>321.0</td>\n",
       "      <td>158.0</td>\n",
       "      <td>163.0</td>\n",
       "    </tr>\n",
       "    <tr>\n",
       "      <th>35</th>\n",
       "      <td>2008</td>\n",
       "      <td>3</td>\n",
       "      <td>14.0</td>\n",
       "      <td>-11.0</td>\n",
       "      <td>324.0</td>\n",
       "      <td>172.0</td>\n",
       "      <td>152.0</td>\n",
       "    </tr>\n",
       "    <tr>\n",
       "      <th>36</th>\n",
       "      <td>2009</td>\n",
       "      <td>7</td>\n",
       "      <td>11.0</td>\n",
       "      <td>-4.0</td>\n",
       "      <td>331.0</td>\n",
       "      <td>183.0</td>\n",
       "      <td>148.0</td>\n",
       "    </tr>\n",
       "    <tr>\n",
       "      <th>37</th>\n",
       "      <td>2010</td>\n",
       "      <td>7</td>\n",
       "      <td>8.0</td>\n",
       "      <td>-1.0</td>\n",
       "      <td>338.0</td>\n",
       "      <td>191.0</td>\n",
       "      <td>147.0</td>\n",
       "    </tr>\n",
       "    <tr>\n",
       "      <th>38</th>\n",
       "      <td>2011</td>\n",
       "      <td>4</td>\n",
       "      <td>4.0</td>\n",
       "      <td>0.0</td>\n",
       "      <td>342.0</td>\n",
       "      <td>195.0</td>\n",
       "      <td>147.0</td>\n",
       "    </tr>\n",
       "    <tr>\n",
       "      <th>39</th>\n",
       "      <td>2012</td>\n",
       "      <td>10</td>\n",
       "      <td>8.0</td>\n",
       "      <td>2.0</td>\n",
       "      <td>352.0</td>\n",
       "      <td>203.0</td>\n",
       "      <td>149.0</td>\n",
       "    </tr>\n",
       "    <tr>\n",
       "      <th>40</th>\n",
       "      <td>2013</td>\n",
       "      <td>10</td>\n",
       "      <td>7.0</td>\n",
       "      <td>3.0</td>\n",
       "      <td>362.0</td>\n",
       "      <td>210.0</td>\n",
       "      <td>152.0</td>\n",
       "    </tr>\n",
       "    <tr>\n",
       "      <th>41</th>\n",
       "      <td>2014</td>\n",
       "      <td>5</td>\n",
       "      <td>7.0</td>\n",
       "      <td>-2.0</td>\n",
       "      <td>367.0</td>\n",
       "      <td>217.0</td>\n",
       "      <td>150.0</td>\n",
       "    </tr>\n",
       "    <tr>\n",
       "      <th>42</th>\n",
       "      <td>2015</td>\n",
       "      <td>6</td>\n",
       "      <td>6.0</td>\n",
       "      <td>0.0</td>\n",
       "      <td>373.0</td>\n",
       "      <td>223.0</td>\n",
       "      <td>150.0</td>\n",
       "    </tr>\n",
       "    <tr>\n",
       "      <th>43</th>\n",
       "      <td>2016</td>\n",
       "      <td>6</td>\n",
       "      <td>6.0</td>\n",
       "      <td>0.0</td>\n",
       "      <td>379.0</td>\n",
       "      <td>229.0</td>\n",
       "      <td>150.0</td>\n",
       "    </tr>\n",
       "    <tr>\n",
       "      <th>44</th>\n",
       "      <td>2017</td>\n",
       "      <td>9</td>\n",
       "      <td>3.0</td>\n",
       "      <td>6.0</td>\n",
       "      <td>388.0</td>\n",
       "      <td>232.0</td>\n",
       "      <td>156.0</td>\n",
       "    </tr>\n",
       "    <tr>\n",
       "      <th>45</th>\n",
       "      <td>2018</td>\n",
       "      <td>4</td>\n",
       "      <td>8.0</td>\n",
       "      <td>-4.0</td>\n",
       "      <td>392.0</td>\n",
       "      <td>240.0</td>\n",
       "      <td>152.0</td>\n",
       "    </tr>\n",
       "    <tr>\n",
       "      <th>46</th>\n",
       "      <td>2019</td>\n",
       "      <td>6</td>\n",
       "      <td>6.0</td>\n",
       "      <td>0.0</td>\n",
       "      <td>398.0</td>\n",
       "      <td>246.0</td>\n",
       "      <td>152.0</td>\n",
       "    </tr>\n",
       "    <tr>\n",
       "      <th>47</th>\n",
       "      <td>2020</td>\n",
       "      <td>1</td>\n",
       "      <td>3.0</td>\n",
       "      <td>-2.0</td>\n",
       "      <td>399.0</td>\n",
       "      <td>249.0</td>\n",
       "      <td>150.0</td>\n",
       "    </tr>\n",
       "  </tbody>\n",
       "</table>\n",
       "</div>"
      ],
      "text/plain": [
       "    year  commits  discharges  net_intake  Cumulative_sum  \\\n",
       "0   1973        2         0.0         2.0             2.0   \n",
       "1   1974        2         0.0         2.0             4.0   \n",
       "2   1975        3         0.0         3.0             7.0   \n",
       "3   1976        3         0.0         3.0            10.0   \n",
       "4   1977        3         0.0         3.0            13.0   \n",
       "5   1978       13         0.0        13.0            26.0   \n",
       "6   1979        8         0.0         8.0            34.0   \n",
       "7   1980        4         0.0         4.0            38.0   \n",
       "8   1981        8         0.0         8.0            46.0   \n",
       "9   1982       17         0.0        17.0            63.0   \n",
       "10  1983       15         0.0        15.0            78.0   \n",
       "11  1984       10         0.0        10.0            88.0   \n",
       "12  1985       29         0.0        29.0           117.0   \n",
       "13  1986       19        10.0         9.0           136.0   \n",
       "14  1987       15         6.0         9.0           151.0   \n",
       "15  1988       13         6.0         7.0           164.0   \n",
       "16  1989       13         3.0        10.0           177.0   \n",
       "17  1990       16         9.0         7.0           193.0   \n",
       "18  1991       15         8.0         7.0           208.0   \n",
       "19  1992       12         2.0        10.0           220.0   \n",
       "20  1993        9         7.0         2.0           229.0   \n",
       "21  1994       12        11.0         1.0           241.0   \n",
       "22  1995        9        12.0        -3.0           250.0   \n",
       "23  1996        5         5.0         0.0           255.0   \n",
       "24  1997        5         4.0         1.0           260.0   \n",
       "25  1998        5         5.0         0.0           265.0   \n",
       "26  1999        9         9.0         0.0           274.0   \n",
       "27  2000        8         6.0         2.0           282.0   \n",
       "28  2001        5         6.0        -1.0           287.0   \n",
       "29  2002        8         8.0         0.0           295.0   \n",
       "30  2003        7        10.0        -3.0           302.0   \n",
       "31  2004        7         9.0        -2.0           309.0   \n",
       "32  2005        4         8.0        -4.0           313.0   \n",
       "33  2006        4         4.0         0.0           317.0   \n",
       "34  2007        4        10.0        -6.0           321.0   \n",
       "35  2008        3        14.0       -11.0           324.0   \n",
       "36  2009        7        11.0        -4.0           331.0   \n",
       "37  2010        7         8.0        -1.0           338.0   \n",
       "38  2011        4         4.0         0.0           342.0   \n",
       "39  2012       10         8.0         2.0           352.0   \n",
       "40  2013       10         7.0         3.0           362.0   \n",
       "41  2014        5         7.0        -2.0           367.0   \n",
       "42  2015        6         6.0         0.0           373.0   \n",
       "43  2016        6         6.0         0.0           379.0   \n",
       "44  2017        9         3.0         6.0           388.0   \n",
       "45  2018        4         8.0        -4.0           392.0   \n",
       "46  2019        6         6.0         0.0           398.0   \n",
       "47  2020        1         3.0        -2.0           399.0   \n",
       "\n",
       "    Cumulative_sum_discharges  Population?  \n",
       "0                         0.0          2.0  \n",
       "1                         0.0          4.0  \n",
       "2                         0.0          7.0  \n",
       "3                         0.0         10.0  \n",
       "4                         0.0         13.0  \n",
       "5                         0.0         26.0  \n",
       "6                         0.0         34.0  \n",
       "7                         0.0         38.0  \n",
       "8                         0.0         46.0  \n",
       "9                         0.0         63.0  \n",
       "10                        0.0         78.0  \n",
       "11                        0.0         88.0  \n",
       "12                        0.0        117.0  \n",
       "13                       10.0        126.0  \n",
       "14                       16.0        135.0  \n",
       "15                       22.0        142.0  \n",
       "16                       25.0        152.0  \n",
       "17                       34.0        159.0  \n",
       "18                       42.0        166.0  \n",
       "19                       44.0        176.0  \n",
       "20                       51.0        178.0  \n",
       "21                       62.0        179.0  \n",
       "22                       74.0        176.0  \n",
       "23                       79.0        176.0  \n",
       "24                       83.0        177.0  \n",
       "25                       88.0        177.0  \n",
       "26                       97.0        177.0  \n",
       "27                      103.0        179.0  \n",
       "28                      109.0        178.0  \n",
       "29                      117.0        178.0  \n",
       "30                      127.0        175.0  \n",
       "31                      136.0        173.0  \n",
       "32                      144.0        169.0  \n",
       "33                      148.0        169.0  \n",
       "34                      158.0        163.0  \n",
       "35                      172.0        152.0  \n",
       "36                      183.0        148.0  \n",
       "37                      191.0        147.0  \n",
       "38                      195.0        147.0  \n",
       "39                      203.0        149.0  \n",
       "40                      210.0        152.0  \n",
       "41                      217.0        150.0  \n",
       "42                      223.0        150.0  \n",
       "43                      229.0        150.0  \n",
       "44                      232.0        156.0  \n",
       "45                      240.0        152.0  \n",
       "46                      246.0        152.0  \n",
       "47                      249.0        150.0  "
      ]
     },
     "execution_count": 37,
     "metadata": {},
     "output_type": "execute_result"
    }
   ],
   "source": [
    "df_final"
   ]
  },
  {
   "cell_type": "code",
   "execution_count": 36,
   "metadata": {},
   "outputs": [
    {
     "data": {
      "text/plain": [
       "<AxesSubplot:xlabel='year'>"
      ]
     },
     "execution_count": 36,
     "metadata": {},
     "output_type": "execute_result"
    },
    {
     "data": {
      "image/png": "[encoded data removed]",
      "text/plain": [
       "<Figure size 432x288 with 1 Axes>"
      ]
     },
     "metadata": {
      "needs_background": "light"
     },
     "output_type": "display_data"
    }
   ],
   "source": [
    "df_final.plot(x='year', y='net_intake', kind='bar')"
   ]
  },
  {
   "cell_type": "markdown",
   "metadata": {},
   "source": [
    "# People who have not been discharged"
   ]
  },
  {
   "cell_type": "markdown",
   "metadata": {},
   "source": [
    "When were they committed?"
   ]
  },
  {
   "cell_type": "code",
   "execution_count": 22,
   "metadata": {},
   "outputs": [
    {
     "data": {
      "text/plain": [
       "<AxesSubplot:xlabel='index'>"
      ]
     },
     "execution_count": 22,
     "metadata": {},
     "output_type": "execute_result"
    },
    {
     "data": {
      "image/png": "[encoded data removed]",
      "text/plain": [
       "<Figure size 432x288 with 1 Axes>"
      ]
     },
     "metadata": {
      "needs_background": "light"
     },
     "output_type": "display_data"
    }
   ],
   "source": [
    "df[df['DischargeDate'].isna()]['CommitDate'].dt.year.value_counts().reset_index().sort_values(by='index').plot(x='index', y='CommitDate',kind='bar')"
   ]
  },
  {
   "cell_type": "markdown",
   "metadata": {},
   "source": [
    "Who are they?"
   ]
  },
  {
   "cell_type": "code",
   "execution_count": 23,
   "metadata": {},
   "outputs": [
    {
     "data": {
      "text/html": [
       "<div>\n",
       "<style scoped>\n",
       "    .dataframe tbody tr th:only-of-type {\n",
       "        vertical-align: middle;\n",
       "    }\n",
       "\n",
       "    .dataframe tbody tr th {\n",
       "        vertical-align: top;\n",
       "    }\n",
       "\n",
       "    .dataframe thead th {\n",
       "        text-align: right;\n",
       "    }\n",
       "</style>\n",
       "<table border=\"1\" class=\"dataframe\">\n",
       "  <thead>\n",
       "    <tr style=\"text-align: right;\">\n",
       "      <th></th>\n",
       "      <th>LastName</th>\n",
       "      <th>FirstName</th>\n",
       "      <th>CommitDate</th>\n",
       "      <th>DischargeDate</th>\n",
       "      <th>Difference</th>\n",
       "    </tr>\n",
       "  </thead>\n",
       "  <tbody>\n",
       "    <tr>\n",
       "      <th>288</th>\n",
       "      <td>Pascale</td>\n",
       "      <td>Donald</td>\n",
       "      <td>1976-09-16</td>\n",
       "      <td>NaT</td>\n",
       "      <td>NaT</td>\n",
       "    </tr>\n",
       "    <tr>\n",
       "      <th>123</th>\n",
       "      <td>Gillespie</td>\n",
       "      <td>Gregory</td>\n",
       "      <td>1979-01-25</td>\n",
       "      <td>NaT</td>\n",
       "      <td>NaT</td>\n",
       "    </tr>\n",
       "    <tr>\n",
       "      <th>197</th>\n",
       "      <td>Leak</td>\n",
       "      <td>Benjamin</td>\n",
       "      <td>1982-01-25</td>\n",
       "      <td>NaT</td>\n",
       "      <td>NaT</td>\n",
       "    </tr>\n",
       "    <tr>\n",
       "      <th>270</th>\n",
       "      <td>Oates</td>\n",
       "      <td>Timothy</td>\n",
       "      <td>1982-05-13</td>\n",
       "      <td>NaT</td>\n",
       "      <td>NaT</td>\n",
       "    </tr>\n",
       "    <tr>\n",
       "      <th>381</th>\n",
       "      <td>Webber</td>\n",
       "      <td>William</td>\n",
       "      <td>1984-08-27</td>\n",
       "      <td>NaT</td>\n",
       "      <td>NaT</td>\n",
       "    </tr>\n",
       "    <tr>\n",
       "      <th>...</th>\n",
       "      <td>...</td>\n",
       "      <td>...</td>\n",
       "      <td>...</td>\n",
       "      <td>...</td>\n",
       "      <td>...</td>\n",
       "    </tr>\n",
       "    <tr>\n",
       "      <th>206</th>\n",
       "      <td>Lindsay</td>\n",
       "      <td>Isaiah</td>\n",
       "      <td>2019-02-22</td>\n",
       "      <td>NaT</td>\n",
       "      <td>NaT</td>\n",
       "    </tr>\n",
       "    <tr>\n",
       "      <th>118</th>\n",
       "      <td>Garvins</td>\n",
       "      <td>Diamond</td>\n",
       "      <td>2019-05-14</td>\n",
       "      <td>NaT</td>\n",
       "      <td>NaT</td>\n",
       "    </tr>\n",
       "    <tr>\n",
       "      <th>41</th>\n",
       "      <td>Brown</td>\n",
       "      <td>Imani</td>\n",
       "      <td>2019-10-21</td>\n",
       "      <td>NaT</td>\n",
       "      <td>NaT</td>\n",
       "    </tr>\n",
       "    <tr>\n",
       "      <th>377</th>\n",
       "      <td>Wascher</td>\n",
       "      <td>Jake</td>\n",
       "      <td>2019-12-23</td>\n",
       "      <td>NaT</td>\n",
       "      <td>NaT</td>\n",
       "    </tr>\n",
       "    <tr>\n",
       "      <th>169</th>\n",
       "      <td>Karolkowski</td>\n",
       "      <td>Michael</td>\n",
       "      <td>2020-01-06</td>\n",
       "      <td>NaT</td>\n",
       "      <td>NaT</td>\n",
       "    </tr>\n",
       "  </tbody>\n",
       "</table>\n",
       "<p>150 rows × 5 columns</p>\n",
       "</div>"
      ],
      "text/plain": [
       "        LastName FirstName CommitDate DischargeDate Difference\n",
       "288      Pascale    Donald 1976-09-16           NaT        NaT\n",
       "123    Gillespie   Gregory 1979-01-25           NaT        NaT\n",
       "197         Leak  Benjamin 1982-01-25           NaT        NaT\n",
       "270        Oates   Timothy 1982-05-13           NaT        NaT\n",
       "381       Webber   William 1984-08-27           NaT        NaT\n",
       "..           ...       ...        ...           ...        ...\n",
       "206      Lindsay    Isaiah 2019-02-22           NaT        NaT\n",
       "118      Garvins   Diamond 2019-05-14           NaT        NaT\n",
       "41         Brown     Imani 2019-10-21           NaT        NaT\n",
       "377      Wascher      Jake 2019-12-23           NaT        NaT\n",
       "169  Karolkowski   Michael 2020-01-06           NaT        NaT\n",
       "\n",
       "[150 rows x 5 columns]"
      ]
     },
     "execution_count": 23,
     "metadata": {},
     "output_type": "execute_result"
    }
   ],
   "source": [
    "df[df['DischargeDate'].isna()].sort_values('CommitDate', ascending=True)"
   ]
  },
  {
   "cell_type": "markdown",
   "metadata": {},
   "source": [
    "# Total Population over time"
   ]
  },
  {
   "cell_type": "markdown",
   "metadata": {},
   "source": [
    "We know that 150 people are currently under the jurisdiction of the PSRB. But is this number typical? How many people were under the board's jurisdiction at any given point in time?"
   ]
  },
  {
   "cell_type": "code",
   "execution_count": 24,
   "metadata": {},
   "outputs": [],
   "source": [
    "df_commits = df['CommitDate'].dt.year.value_counts().reset_index().sort_values(by='index').rename(columns={\n",
    "     'index':'year',\n",
    "     'CommitDate':'commits'\n",
    " })"
   ]
  },
  {
   "cell_type": "code",
   "execution_count": 25,
   "metadata": {},
   "outputs": [],
   "source": [
    "df_discharges = df['DischargeDate'].dt.year.value_counts().reset_index().sort_values(by='index').rename(columns={\n",
    "     'index':'year',\n",
    "     'DischargeDate':'discharges'\n",
    " })"
   ]
  },
  {
   "cell_type": "code",
   "execution_count": 26,
   "metadata": {},
   "outputs": [],
   "source": [
    "df_final = df_commits.merge(df_discharges, how='left')"
   ]
  },
  {
   "cell_type": "code",
   "execution_count": 27,
   "metadata": {},
   "outputs": [],
   "source": [
    "df_final.discharges = df_final.discharges.replace(np.nan, 0)"
   ]
  },
  {
   "cell_type": "code",
   "execution_count": 28,
   "metadata": {},
   "outputs": [],
   "source": [
    "df_final['net_intake'] = df_final['commits']-df_final['discharges']"
   ]
  },
  {
   "cell_type": "code",
   "execution_count": 29,
   "metadata": {},
   "outputs": [],
   "source": [
    "df_final['Cumulative_sum'] = df_final.commits.cumsum()"
   ]
  },
  {
   "cell_type": "code",
   "execution_count": 30,
   "metadata": {},
   "outputs": [],
   "source": [
    "df_final['Cumulative_sum'] = df_final['Cumulative_sum'].astype(float)"
   ]
  },
  {
   "cell_type": "code",
   "execution_count": 31,
   "metadata": {},
   "outputs": [],
   "source": [
    "df_final['Cumulative_sum_discharges'] = df_final.discharges.cumsum()"
   ]
  },
  {
   "cell_type": "code",
   "execution_count": 32,
   "metadata": {},
   "outputs": [],
   "source": [
    "df_final['Population?'] = df_final['Cumulative_sum'] - df_final['Cumulative_sum_discharges']"
   ]
  },
  {
   "cell_type": "code",
   "execution_count": 33,
   "metadata": {},
   "outputs": [
    {
     "data": {
      "text/plain": [
       "<AxesSubplot:xlabel='year'>"
      ]
     },
     "execution_count": 33,
     "metadata": {},
     "output_type": "execute_result"
    },
    {
     "data": {
      "image/png": "[encoded data removed]",
      "text/plain": [
       "<Figure size 432x288 with 1 Axes>"
      ]
     },
     "metadata": {
      "needs_background": "light"
     },
     "output_type": "display_data"
    }
   ],
   "source": [
    "df_final.plot(x='year', y='Population?', kind='bar')"
   ]
  },
  {
   "cell_type": "code",
   "execution_count": null,
   "metadata": {},
   "outputs": [],
   "source": [
    "#averages"
   ]
  },
  {
   "cell_type": "code",
   "execution_count": 34,
   "metadata": {},
   "outputs": [
    {
     "data": {
      "text/plain": [
       "128.35416666666666"
      ]
     },
     "execution_count": 34,
     "metadata": {},
     "output_type": "execute_result"
    }
   ],
   "source": [
    "df_final['Population?'].mean()"
   ]
  },
  {
   "cell_type": "code",
   "execution_count": null,
   "metadata": {},
   "outputs": [],
   "source": [
    "#almost exactly the typical number. Does this have something to do with them being at capacity? "
   ]
  },
  {
   "cell_type": "code",
   "execution_count": 35,
   "metadata": {},
   "outputs": [
    {
     "data": {
      "text/plain": [
       "151.0"
      ]
     },
     "execution_count": 35,
     "metadata": {},
     "output_type": "execute_result"
    }
   ],
   "source": [
    "df_final['Population?'].median()"
   ]
  },
  {
   "cell_type": "markdown",
   "metadata": {},
   "source": [
    "# Same name folks"
   ]
  },
  {
   "cell_type": "markdown",
   "metadata": {},
   "source": [
    "Are these the same people? Just typos/ errors in data entry?"
   ]
  },
  {
   "cell_type": "code",
   "execution_count": 112,
   "metadata": {},
   "outputs": [],
   "source": [
    "df['Name'] = df['LastName'] + ', '+df['FirstName']"
   ]
  },
  {
   "cell_type": "code",
   "execution_count": 116,
   "metadata": {},
   "outputs": [
    {
     "data": {
      "text/plain": [
       "Yearwood, Reginald    2\n",
       "Peterson, David R.    2\n",
       "Peay, Rita            2\n",
       "Williams, Scott       2\n",
       "Lukasik, Patricia     2\n",
       "Rossi, Roger          2\n",
       "Smith, Jamel          2\n",
       "Name: Name, dtype: int64"
      ]
     },
     "execution_count": 116,
     "metadata": {},
     "output_type": "execute_result"
    }
   ],
   "source": [
    "df['Name'].value_counts().head(7)"
   ]
  },
  {
   "cell_type": "code",
   "execution_count": 118,
   "metadata": {},
   "outputs": [
    {
     "data": {
      "text/html": [
       "<div>\n",
       "<style scoped>\n",
       "    .dataframe tbody tr th:only-of-type {\n",
       "        vertical-align: middle;\n",
       "    }\n",
       "\n",
       "    .dataframe tbody tr th {\n",
       "        vertical-align: top;\n",
       "    }\n",
       "\n",
       "    .dataframe thead th {\n",
       "        text-align: right;\n",
       "    }\n",
       "</style>\n",
       "<table border=\"1\" class=\"dataframe\">\n",
       "  <thead>\n",
       "    <tr style=\"text-align: right;\">\n",
       "      <th></th>\n",
       "      <th>LastName</th>\n",
       "      <th>FirstName</th>\n",
       "      <th>CommitDate</th>\n",
       "      <th>DischargeDate</th>\n",
       "      <th>Difference</th>\n",
       "      <th>Name</th>\n",
       "    </tr>\n",
       "  </thead>\n",
       "  <tbody>\n",
       "    <tr>\n",
       "      <th>392</th>\n",
       "      <td>Yearwood</td>\n",
       "      <td>Reginald</td>\n",
       "      <td>1988-12-06</td>\n",
       "      <td>NaT</td>\n",
       "      <td>NaT</td>\n",
       "      <td>Yearwood, Reginald</td>\n",
       "    </tr>\n",
       "    <tr>\n",
       "      <th>393</th>\n",
       "      <td>Yearwood</td>\n",
       "      <td>Reginald</td>\n",
       "      <td>1998-12-06</td>\n",
       "      <td>NaT</td>\n",
       "      <td>NaT</td>\n",
       "      <td>Yearwood, Reginald</td>\n",
       "    </tr>\n",
       "  </tbody>\n",
       "</table>\n",
       "</div>"
      ],
      "text/plain": [
       "     LastName FirstName CommitDate DischargeDate Difference  \\\n",
       "392  Yearwood  Reginald 1988-12-06           NaT        NaT   \n",
       "393  Yearwood  Reginald 1998-12-06           NaT        NaT   \n",
       "\n",
       "                   Name  \n",
       "392  Yearwood, Reginald  \n",
       "393  Yearwood, Reginald  "
      ]
     },
     "execution_count": 118,
     "metadata": {},
     "output_type": "execute_result"
    }
   ],
   "source": [
    "df[df['Name'] == 'Yearwood, Reginald']"
   ]
  },
  {
   "cell_type": "code",
   "execution_count": 120,
   "metadata": {},
   "outputs": [
    {
     "data": {
      "text/html": [
       "<div>\n",
       "<style scoped>\n",
       "    .dataframe tbody tr th:only-of-type {\n",
       "        vertical-align: middle;\n",
       "    }\n",
       "\n",
       "    .dataframe tbody tr th {\n",
       "        vertical-align: top;\n",
       "    }\n",
       "\n",
       "    .dataframe thead th {\n",
       "        text-align: right;\n",
       "    }\n",
       "</style>\n",
       "<table border=\"1\" class=\"dataframe\">\n",
       "  <thead>\n",
       "    <tr style=\"text-align: right;\">\n",
       "      <th></th>\n",
       "      <th>LastName</th>\n",
       "      <th>FirstName</th>\n",
       "      <th>CommitDate</th>\n",
       "      <th>DischargeDate</th>\n",
       "      <th>Difference</th>\n",
       "      <th>Name</th>\n",
       "    </tr>\n",
       "  </thead>\n",
       "  <tbody>\n",
       "    <tr>\n",
       "      <th>300</th>\n",
       "      <td>Peterson</td>\n",
       "      <td>David R.</td>\n",
       "      <td>1988-05-09</td>\n",
       "      <td>NaT</td>\n",
       "      <td>NaT</td>\n",
       "      <td>Peterson, David R.</td>\n",
       "    </tr>\n",
       "    <tr>\n",
       "      <th>301</th>\n",
       "      <td>Peterson</td>\n",
       "      <td>David R.</td>\n",
       "      <td>1990-05-31</td>\n",
       "      <td>NaT</td>\n",
       "      <td>NaT</td>\n",
       "      <td>Peterson, David R.</td>\n",
       "    </tr>\n",
       "  </tbody>\n",
       "</table>\n",
       "</div>"
      ],
      "text/plain": [
       "     LastName FirstName CommitDate DischargeDate Difference  \\\n",
       "300  Peterson  David R. 1988-05-09           NaT        NaT   \n",
       "301  Peterson  David R. 1990-05-31           NaT        NaT   \n",
       "\n",
       "                   Name  \n",
       "300  Peterson, David R.  \n",
       "301  Peterson, David R.  "
      ]
     },
     "execution_count": 120,
     "metadata": {},
     "output_type": "execute_result"
    }
   ],
   "source": [
    "df[df['Name'] == 'Peterson, David R.']"
   ]
  },
  {
   "cell_type": "code",
   "execution_count": 121,
   "metadata": {},
   "outputs": [
    {
     "data": {
      "text/html": [
       "<div>\n",
       "<style scoped>\n",
       "    .dataframe tbody tr th:only-of-type {\n",
       "        vertical-align: middle;\n",
       "    }\n",
       "\n",
       "    .dataframe tbody tr th {\n",
       "        vertical-align: top;\n",
       "    }\n",
       "\n",
       "    .dataframe thead th {\n",
       "        text-align: right;\n",
       "    }\n",
       "</style>\n",
       "<table border=\"1\" class=\"dataframe\">\n",
       "  <thead>\n",
       "    <tr style=\"text-align: right;\">\n",
       "      <th></th>\n",
       "      <th>LastName</th>\n",
       "      <th>FirstName</th>\n",
       "      <th>CommitDate</th>\n",
       "      <th>DischargeDate</th>\n",
       "      <th>Difference</th>\n",
       "      <th>Name</th>\n",
       "    </tr>\n",
       "  </thead>\n",
       "  <tbody>\n",
       "    <tr>\n",
       "      <th>292</th>\n",
       "      <td>Peay</td>\n",
       "      <td>Rita</td>\n",
       "      <td>1988-03-21</td>\n",
       "      <td>1993-03-20</td>\n",
       "      <td>1825 days</td>\n",
       "      <td>Peay, Rita</td>\n",
       "    </tr>\n",
       "    <tr>\n",
       "      <th>293</th>\n",
       "      <td>Peay</td>\n",
       "      <td>Rita</td>\n",
       "      <td>1986-03-06</td>\n",
       "      <td>1991-12-05</td>\n",
       "      <td>2100 days</td>\n",
       "      <td>Peay, Rita</td>\n",
       "    </tr>\n",
       "  </tbody>\n",
       "</table>\n",
       "</div>"
      ],
      "text/plain": [
       "    LastName FirstName CommitDate DischargeDate Difference        Name\n",
       "292     Peay      Rita 1988-03-21    1993-03-20  1825 days  Peay, Rita\n",
       "293     Peay      Rita 1986-03-06    1991-12-05  2100 days  Peay, Rita"
      ]
     },
     "execution_count": 121,
     "metadata": {},
     "output_type": "execute_result"
    }
   ],
   "source": [
    "df[df['Name'] == 'Peay, Rita']"
   ]
  },
  {
   "cell_type": "code",
   "execution_count": 122,
   "metadata": {},
   "outputs": [
    {
     "data": {
      "text/html": [
       "<div>\n",
       "<style scoped>\n",
       "    .dataframe tbody tr th:only-of-type {\n",
       "        vertical-align: middle;\n",
       "    }\n",
       "\n",
       "    .dataframe tbody tr th {\n",
       "        vertical-align: top;\n",
       "    }\n",
       "\n",
       "    .dataframe thead th {\n",
       "        text-align: right;\n",
       "    }\n",
       "</style>\n",
       "<table border=\"1\" class=\"dataframe\">\n",
       "  <thead>\n",
       "    <tr style=\"text-align: right;\">\n",
       "      <th></th>\n",
       "      <th>LastName</th>\n",
       "      <th>FirstName</th>\n",
       "      <th>CommitDate</th>\n",
       "      <th>DischargeDate</th>\n",
       "      <th>Difference</th>\n",
       "      <th>Name</th>\n",
       "    </tr>\n",
       "  </thead>\n",
       "  <tbody>\n",
       "    <tr>\n",
       "      <th>386</th>\n",
       "      <td>Williams</td>\n",
       "      <td>Scott</td>\n",
       "      <td>1999-12-22</td>\n",
       "      <td>2014-12-21</td>\n",
       "      <td>5478 days</td>\n",
       "      <td>Williams, Scott</td>\n",
       "    </tr>\n",
       "    <tr>\n",
       "      <th>387</th>\n",
       "      <td>Williams</td>\n",
       "      <td>Scott</td>\n",
       "      <td>1995-12-18</td>\n",
       "      <td>NaT</td>\n",
       "      <td>NaT</td>\n",
       "      <td>Williams, Scott</td>\n",
       "    </tr>\n",
       "  </tbody>\n",
       "</table>\n",
       "</div>"
      ],
      "text/plain": [
       "     LastName FirstName CommitDate DischargeDate Difference             Name\n",
       "386  Williams     Scott 1999-12-22    2014-12-21  5478 days  Williams, Scott\n",
       "387  Williams     Scott 1995-12-18           NaT        NaT  Williams, Scott"
      ]
     },
     "execution_count": 122,
     "metadata": {},
     "output_type": "execute_result"
    }
   ],
   "source": [
    "df[df['Name'] == 'Williams, Scott']"
   ]
  },
  {
   "cell_type": "code",
   "execution_count": 123,
   "metadata": {},
   "outputs": [
    {
     "data": {
      "text/html": [
       "<div>\n",
       "<style scoped>\n",
       "    .dataframe tbody tr th:only-of-type {\n",
       "        vertical-align: middle;\n",
       "    }\n",
       "\n",
       "    .dataframe tbody tr th {\n",
       "        vertical-align: top;\n",
       "    }\n",
       "\n",
       "    .dataframe thead th {\n",
       "        text-align: right;\n",
       "    }\n",
       "</style>\n",
       "<table border=\"1\" class=\"dataframe\">\n",
       "  <thead>\n",
       "    <tr style=\"text-align: right;\">\n",
       "      <th></th>\n",
       "      <th>LastName</th>\n",
       "      <th>FirstName</th>\n",
       "      <th>CommitDate</th>\n",
       "      <th>DischargeDate</th>\n",
       "      <th>Difference</th>\n",
       "      <th>Name</th>\n",
       "    </tr>\n",
       "  </thead>\n",
       "  <tbody>\n",
       "    <tr>\n",
       "      <th>213</th>\n",
       "      <td>Lukasik</td>\n",
       "      <td>Patricia</td>\n",
       "      <td>1977-03-03</td>\n",
       "      <td>1987-03-02</td>\n",
       "      <td>3651 days</td>\n",
       "      <td>Lukasik, Patricia</td>\n",
       "    </tr>\n",
       "    <tr>\n",
       "      <th>214</th>\n",
       "      <td>Lukasik</td>\n",
       "      <td>Patricia</td>\n",
       "      <td>1980-01-11</td>\n",
       "      <td>1990-01-10</td>\n",
       "      <td>3652 days</td>\n",
       "      <td>Lukasik, Patricia</td>\n",
       "    </tr>\n",
       "  </tbody>\n",
       "</table>\n",
       "</div>"
      ],
      "text/plain": [
       "    LastName FirstName CommitDate DischargeDate Difference               Name\n",
       "213  Lukasik  Patricia 1977-03-03    1987-03-02  3651 days  Lukasik, Patricia\n",
       "214  Lukasik  Patricia 1980-01-11    1990-01-10  3652 days  Lukasik, Patricia"
      ]
     },
     "execution_count": 123,
     "metadata": {},
     "output_type": "execute_result"
    }
   ],
   "source": [
    "df[df['Name'] == 'Lukasik, Patricia']"
   ]
  },
  {
   "cell_type": "code",
   "execution_count": 124,
   "metadata": {},
   "outputs": [
    {
     "data": {
      "text/html": [
       "<div>\n",
       "<style scoped>\n",
       "    .dataframe tbody tr th:only-of-type {\n",
       "        vertical-align: middle;\n",
       "    }\n",
       "\n",
       "    .dataframe tbody tr th {\n",
       "        vertical-align: top;\n",
       "    }\n",
       "\n",
       "    .dataframe thead th {\n",
       "        text-align: right;\n",
       "    }\n",
       "</style>\n",
       "<table border=\"1\" class=\"dataframe\">\n",
       "  <thead>\n",
       "    <tr style=\"text-align: right;\">\n",
       "      <th></th>\n",
       "      <th>LastName</th>\n",
       "      <th>FirstName</th>\n",
       "      <th>CommitDate</th>\n",
       "      <th>DischargeDate</th>\n",
       "      <th>Difference</th>\n",
       "      <th>Name</th>\n",
       "    </tr>\n",
       "  </thead>\n",
       "  <tbody>\n",
       "    <tr>\n",
       "      <th>321</th>\n",
       "      <td>Rossi</td>\n",
       "      <td>Roger</td>\n",
       "      <td>1994-04-15</td>\n",
       "      <td>2009-10-14</td>\n",
       "      <td>5661 days</td>\n",
       "      <td>Rossi, Roger</td>\n",
       "    </tr>\n",
       "    <tr>\n",
       "      <th>322</th>\n",
       "      <td>Rossi</td>\n",
       "      <td>Roger</td>\n",
       "      <td>1987-10-07</td>\n",
       "      <td>2009-10-14</td>\n",
       "      <td>8043 days</td>\n",
       "      <td>Rossi, Roger</td>\n",
       "    </tr>\n",
       "  </tbody>\n",
       "</table>\n",
       "</div>"
      ],
      "text/plain": [
       "    LastName FirstName CommitDate DischargeDate Difference          Name\n",
       "321    Rossi     Roger 1994-04-15    2009-10-14  5661 days  Rossi, Roger\n",
       "322    Rossi     Roger 1987-10-07    2009-10-14  8043 days  Rossi, Roger"
      ]
     },
     "execution_count": 124,
     "metadata": {},
     "output_type": "execute_result"
    }
   ],
   "source": [
    "df[df['Name'] == 'Rossi, Roger']"
   ]
  },
  {
   "cell_type": "code",
   "execution_count": 125,
   "metadata": {},
   "outputs": [
    {
     "data": {
      "text/html": [
       "<div>\n",
       "<style scoped>\n",
       "    .dataframe tbody tr th:only-of-type {\n",
       "        vertical-align: middle;\n",
       "    }\n",
       "\n",
       "    .dataframe tbody tr th {\n",
       "        vertical-align: top;\n",
       "    }\n",
       "\n",
       "    .dataframe thead th {\n",
       "        text-align: right;\n",
       "    }\n",
       "</style>\n",
       "<table border=\"1\" class=\"dataframe\">\n",
       "  <thead>\n",
       "    <tr style=\"text-align: right;\">\n",
       "      <th></th>\n",
       "      <th>LastName</th>\n",
       "      <th>FirstName</th>\n",
       "      <th>CommitDate</th>\n",
       "      <th>DischargeDate</th>\n",
       "      <th>Difference</th>\n",
       "      <th>Name</th>\n",
       "    </tr>\n",
       "  </thead>\n",
       "  <tbody>\n",
       "    <tr>\n",
       "      <th>347</th>\n",
       "      <td>Smith</td>\n",
       "      <td>Jamel</td>\n",
       "      <td>2014-11-10</td>\n",
       "      <td>NaT</td>\n",
       "      <td>NaT</td>\n",
       "      <td>Smith, Jamel</td>\n",
       "    </tr>\n",
       "    <tr>\n",
       "      <th>349</th>\n",
       "      <td>Smith</td>\n",
       "      <td>Jamel</td>\n",
       "      <td>2017-06-13</td>\n",
       "      <td>NaT</td>\n",
       "      <td>NaT</td>\n",
       "      <td>Smith, Jamel</td>\n",
       "    </tr>\n",
       "  </tbody>\n",
       "</table>\n",
       "</div>"
      ],
      "text/plain": [
       "    LastName FirstName CommitDate DischargeDate Difference          Name\n",
       "347    Smith     Jamel 2014-11-10           NaT        NaT  Smith, Jamel\n",
       "349    Smith     Jamel 2017-06-13           NaT        NaT  Smith, Jamel"
      ]
     },
     "execution_count": 125,
     "metadata": {},
     "output_type": "execute_result"
    }
   ],
   "source": [
    "df[df['Name'] == 'Smith, Jamel']"
   ]
  }
 ],
 "metadata": {
  "kernelspec": {
   "display_name": "Python 3",
   "language": "python",
   "name": "python3"
  },
  "language_info": {
   "codemirror_mode": {
    "name": "ipython",
    "version": 3
   },
   "file_extension": ".py",
   "mimetype": "text/x-python",
   "name": "python",
   "nbconvert_exporter": "python",
   "pygments_lexer": "ipython3",
   "version": "3.7.1"
  }
 },
 "nbformat": 4,
 "nbformat_minor": 4
}
